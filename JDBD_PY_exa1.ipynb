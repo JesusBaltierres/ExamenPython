{
  "nbformat": 4,
  "nbformat_minor": 0,
  "metadata": {
    "colab": {
      "provenance": [],
      "authorship_tag": "ABX9TyPe13O9AAOjlVg43USfoonw",
      "include_colab_link": true
    },
    "kernelspec": {
      "name": "python3",
      "display_name": "Python 3"
    },
    "language_info": {
      "name": "python"
    }
  },
  "cells": [
    {
      "cell_type": "markdown",
      "metadata": {
        "id": "view-in-github",
        "colab_type": "text"
      },
      "source": [
        "<a href=\"https://colab.research.google.com/github/JesusBaltierres/ExamenPython/blob/main/JDBD_PY_exa1.ipynb\" target=\"_parent\"><img src=\"https://colab.research.google.com/assets/colab-badge.svg\" alt=\"Open In Colab\"/></a>"
      ]
    },
    {
      "cell_type": "markdown",
      "source": [
        "Pregunta 1\n",
        "\n",
        "Escribe una funcion de Python en collaboratory que realice lo siguiente:\n",
        "\n",
        "funcion que retorne un numero dentro de un rango dado, validar el numero que cumpla el requisito del rango, la funcion debera validar que el programa no marque error por introducir informacion erronea (usar try except)\n",
        "\n",
        "Escribir codigo que mande llamar la funcion y desplegar el resultado,\n",
        "\n",
        "Escribir enlace a GITHUB a un dcto que se llame INICIALES_PY_exa1"
      ],
      "metadata": {
        "id": "aqFZ7HITSqmy"
      }
    },
    {
      "cell_type": "code",
      "execution_count": null,
      "metadata": {
        "id": "A6P-hFdYOlL2"
      },
      "outputs": [],
      "source": [
        "def ValidaNum(ri, rf, mensaje, mensajeError):\n",
        "  while(True):\n",
        "    try: \n",
        "      num = int(input(f\"{mensaje} {ri} y {rf}: \"))\n",
        "      if num > ri:\n",
        "        if num < rf:\n",
        "          return num\n",
        "    except:\n",
        "      print(mensajeError)\n",
        "\n",
        "\n",
        "num = ValidaNum(0, 10, \"Introduzca un Numero entre\", \"Error\")\n",
        "print(f\"El numero {num} esta validado y dentro del rango\")"
      ]
    },
    {
      "cell_type": "markdown",
      "source": [
        "Pregunta 2\n",
        "\n",
        "Escribe una funcion de Python en collaboratory que realice lo siguiente:\n",
        "\n",
        "funcion que retorne una lista con 30 numeros generados aleatorios (20-100) no repetidos\n",
        "\n",
        "Escribir codigo que mande llamar la funcion y desplegar el resultado"
      ],
      "metadata": {
        "id": "lYXRwITyTldo"
      }
    },
    {
      "cell_type": "code",
      "source": [
        "from random import randrange\n",
        "\n",
        "def LlenarLista():\n",
        "  i = 0\n",
        "  while (i < 30):\n",
        "    num = randrange(20, 100)\n",
        "    if num not in lista:\n",
        "      lista.append(num)\n",
        "      i = i + 1\n",
        "  return lista\n",
        "\n",
        "lista = []\n",
        "lista = LlenarLista()\n",
        "print(lista)"
      ],
      "metadata": {
        "colab": {
          "base_uri": "https://localhost:8080/"
        },
        "id": "CDL5plq4T5qF",
        "outputId": "71530e09-f2b1-47b3-9186-dbbce0d84bb4"
      },
      "execution_count": 42,
      "outputs": [
        {
          "output_type": "stream",
          "name": "stdout",
          "text": [
            "[60, 34, 72, 22, 67, 57, 80, 26, 91, 82, 76, 75, 92, 71, 53, 24, 49, 58, 93, 28, 81, 86, 25, 46, 77, 47, 99, 89, 85, 69]\n"
          ]
        }
      ]
    },
    {
      "cell_type": "markdown",
      "source": [
        "Pregunta 3\n",
        "\n",
        "Escribe una funcion de Python en collaboratory que realice lo siguiente:\n",
        "\n",
        "funcion que retorne el resultado del area de un triangulo"
      ],
      "metadata": {
        "id": "-S2syxY7Vws6"
      }
    },
    {
      "cell_type": "code",
      "source": [
        "def AreaTri(base, altura):\n",
        "  area = (base*altura)/2\n",
        "  return area\n",
        "\n",
        "base = ValidaNum(1, 100, \"Introduzca un Numero entre\", \"Error\")\n",
        "altura =  ValidaNum(1, 100, \"Introduzca un Numero entre\", \"Error\")\n",
        "area = AreaTri(base, altura)\n",
        "print(f\"El area del triangulo es de {area} unidades cuadradas\")"
      ],
      "metadata": {
        "id": "fmhsUCfeV1ko"
      },
      "execution_count": null,
      "outputs": []
    }
  ]
}