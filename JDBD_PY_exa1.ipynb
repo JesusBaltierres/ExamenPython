{
  "nbformat": 4,
  "nbformat_minor": 0,
  "metadata": {
    "colab": {
      "provenance": [],
      "authorship_tag": "ABX9TyPaaQZwbOzM76MPe6Smd5Pw",
      "include_colab_link": true
    },
    "kernelspec": {
      "name": "python3",
      "display_name": "Python 3"
    },
    "language_info": {
      "name": "python"
    }
  },
  "cells": [
    {
      "cell_type": "markdown",
      "metadata": {
        "id": "view-in-github",
        "colab_type": "text"
      },
      "source": [
        "<a href=\"https://colab.research.google.com/github/JesusBaltierres/ExamenPython/blob/main/JDBD_PY_exa1.ipynb\" target=\"_parent\"><img src=\"https://colab.research.google.com/assets/colab-badge.svg\" alt=\"Open In Colab\"/></a>"
      ]
    },
    {
      "cell_type": "markdown",
      "source": [
        "Pregunta 1\n",
        "\n",
        "Escribe una funcion de Python en collaboratory que realice lo siguiente:\n",
        "\n",
        "funcion que retorne un numero dentro de un rango dado, validar el numero que cumpla el requisito del rango, la funcion debera validar que el programa no marque error por introducir informacion erronea (usar try except)\n",
        "\n",
        "Escribir codigo que mande llamar la funcion y desplegar el resultado,\n",
        "\n",
        "Escribir enlace a GITHUB a un dcto que se llame INICIALES_PY_exa1"
      ],
      "metadata": {
        "id": "aqFZ7HITSqmy"
      }
    },
    {
      "cell_type": "code",
      "execution_count": null,
      "metadata": {
        "id": "A6P-hFdYOlL2"
      },
      "outputs": [],
      "source": [
        "def ValidaNum(ri, rf, mensaje, mensajeError):\n",
        "  while(True):\n",
        "    try: \n",
        "      num = int(input(f\"{mensaje} {ri} y {rf}: \"))\n",
        "      if num > ri:\n",
        "        if num < rf:\n",
        "          return num\n",
        "    except:\n",
        "      print(mensajeError)\n",
        "\n",
        "\n",
        "num = ValidaNum(0, 10, \"Introduzca un Numero entre\", \"Error\")\n",
        "print(f\"El numero {num} esta validado y dentro del rango\")"
      ]
    }
  ]
}