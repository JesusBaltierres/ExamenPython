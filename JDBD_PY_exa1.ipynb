{
  "nbformat": 4,
  "nbformat_minor": 0,
  "metadata": {
    "colab": {
      "provenance": [],
      "authorship_tag": "ABX9TyPobMRQJ+jOBJo/4EPwqv3s",
      "include_colab_link": true
    },
    "kernelspec": {
      "name": "python3",
      "display_name": "Python 3"
    },
    "language_info": {
      "name": "python"
    }
  },
  "cells": [
    {
      "cell_type": "markdown",
      "metadata": {
        "id": "view-in-github",
        "colab_type": "text"
      },
      "source": [
        "<a href=\"https://colab.research.google.com/github/JesusBaltierres/ExamenPython/blob/main/JDBD_PY_exa1.ipynb\" target=\"_parent\"><img src=\"https://colab.research.google.com/assets/colab-badge.svg\" alt=\"Open In Colab\"/></a>"
      ]
    },
    {
      "cell_type": "code",
      "execution_count": 9,
      "metadata": {
        "id": "A6P-hFdYOlL2",
        "colab": {
          "base_uri": "https://localhost:8080/"
        },
        "outputId": "f008d815-7c4a-43dc-85fb-d1941f64b981"
      },
      "outputs": [
        {
          "output_type": "stream",
          "name": "stdout",
          "text": [
            "Introduzca un Numero entre 0 y 10: 7\n",
            "El numero 7 esta validado y dentro del rango\n"
          ]
        }
      ],
      "source": [
        "def ValidaNum(ri, rf, mensaje, mensajeError):\n",
        "  while(True):\n",
        "    try: \n",
        "      num = int(input(f\"{mensaje} {ri} y {rf}: \"))\n",
        "      if num > ri:\n",
        "        if num < rf:\n",
        "          return num\n",
        "    except:\n",
        "      print(mensajeError)\n",
        "\n",
        "\n",
        "num = ValidaNum(0, 10, \"Introduzca un Numero entre\", \"Error\")\n",
        "print(f\"El numero {num} esta validado y dentro del rango\")"
      ]
    }
  ]
}