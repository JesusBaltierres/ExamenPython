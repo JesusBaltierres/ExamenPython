{
  "nbformat": 4,
  "nbformat_minor": 0,
  "metadata": {
    "colab": {
      "provenance": [],
      "include_colab_link": true
    },
    "kernelspec": {
      "name": "python3",
      "display_name": "Python 3"
    },
    "language_info": {
      "name": "python"
    }
  },
  "cells": [
    {
      "cell_type": "markdown",
      "metadata": {
        "id": "view-in-github",
        "colab_type": "text"
      },
      "source": [
        "<a href=\"https://colab.research.google.com/github/JesusBaltierres/ExamenPython/blob/main/Juego_Python.ipynb\" target=\"_parent\"><img src=\"https://colab.research.google.com/assets/colab-badge.svg\" alt=\"Open In Colab\"/></a>"
      ]
    },
    {
      "cell_type": "code",
      "execution_count": null,
      "metadata": {
        "id": "daC6PcvomftX"
      },
      "outputs": [],
      "source": [
        "#Preguntas Juego Python\n",
        "import random \n",
        "\n",
        "#def pausa():\n",
        "#  x = input(\"Presiona una Tecla para Continuar \")\n",
        "\n",
        "preg = [\"Uno\", \"Dos\", \"Tres\", \"Cuatro\", \"Cinco\", \"Seis\", \"Siete\", \"Ocho\", \"Nueve\", \"Diez\"]\n",
        "num = len(preg)\n",
        "print(num)\n",
        "lista = []\n",
        "i = 0\n",
        "while True:\n",
        "    x = random.choice(preg)\n",
        "    #print(f\"{x}\")\n",
        "    if x not in lista:\n",
        "      lista.append(x)\n",
        "      i = i + 1\n",
        "      print(lista)\n",
        "      #pausa()\n",
        "      if i == num:\n",
        "        break\n",
        "\n",
        "print(\"Fin del Programa\")"
      ]
    },
    {
      "cell_type": "code",
      "source": [
        "import yaml\n",
        "import random\n",
        "\n",
        "diccionario = {\"pregunta1\":[\"opcion1\",\"opcion2\"], \"pregunta2\":[\"opcion1\",\"opcion2\"], \"pregunta3\":[\"opcion1\",\"opcion2\"], \"pregunta4\":[\"opcion1\",\"opcion2\"], \"pregunta5\":[\"opcion1\",\"opcion2\"]}\n",
        "\n",
        "x = random.choice(list(diccionario))\n",
        "print(x)\n",
        "print(diccionario.get(x))\n",
        "\n",
        "print(diccionario['pregunta1'][0])\n",
        "print(diccionario['pregunta1'][1])\n",
        "\n",
        "#print(diccionario)\n",
        "#print(yaml.dump(diccionario, sort_keys=False, default_flow_style=False))"
      ],
      "metadata": {
        "id": "gPmRg6iw8KwF"
      },
      "execution_count": null,
      "outputs": []
    },
    {
      "cell_type": "markdown",
      "source": [
        "Aqui esta el codigo"
      ],
      "metadata": {
        "id": "tjZWCoWPNK6E"
      }
    },
    {
      "cell_type": "code",
      "source": [
        "from tkinter import *\n",
        "import random\n",
        "\n",
        "def Pregunta():\n",
        "    diccionario = {\"pregunta1\": [\"opcion11\", \"opcion12\"], \"pregunta2\": [\"opcion21\", \"opcion22\"],\n",
        "                   \"pregunta3\": [\"opcion31\", \"opcion32\"], \"pregunta4\": [\"opcion41\", \"opcion42\"],\n",
        "                   \"pregunta5\": [\"opcion51\", \"opcion52\"]}\n",
        "\n",
        "    x = random.choice(list(diccionario))\n",
        "\n",
        "    pregunta.set(x)\n",
        "    opcion1.set(diccionario[x][0])\n",
        "    opcion2.set(diccionario[x][1])\n",
        "\n",
        "root = Tk()\n",
        "root.geometry(\"750x500\")\n",
        "root.resizable(False, False)\n",
        "\n",
        "pregunta = StringVar()\n",
        "pregunta.set(\"Aqui va la pregunta\")\n",
        "\n",
        "opcion1 = StringVar()\n",
        "opcion1.set(\"Opcion 1\")\n",
        "opcion2 = StringVar()\n",
        "opcion2.set(\"Opcion 2\")\n",
        "\n",
        "lblPregunta = Label(root, textvariable=pregunta, font=(\"Arial\", 15))\n",
        "lblPregunta.pack()\n",
        "lblPregunta.config(bg=\"gray75\")\n",
        "\n",
        "btnOpcion1 = Button(root, text=\"O\", command=Pregunta)\n",
        "btnOpcion1.pack()\n",
        "btnOpcion1.config(bg=\"lime\")\n",
        "btnOpcion1.place(x=200, y=250, width=50, height=50)\n",
        "\n",
        "lblOpcion1 = Label(root, textvariable=opcion1, font=(\"Arial\", 15))\n",
        "lblOpcion1.pack()\n",
        "lblOpcion1.config(bg=\"lime\")\n",
        "lblOpcion1.place(x=150, y=125, width=200, height=100)\n",
        "\n",
        "btnOpcion2 = Button(root, text=\"X\", command=Pregunta)\n",
        "btnOpcion2.pack()\n",
        "btnOpcion2.config(bg=\"red\")\n",
        "btnOpcion2.place(x=500, y=250, width=50, height=50)\n",
        "\n",
        "lblOpcion2 = Label(root, textvariable=opcion2, font=(\"Arial\", 15))\n",
        "lblOpcion2.pack()\n",
        "lblOpcion2.config(bg=\"red\")\n",
        "lblOpcion2.place(x=450, y=125, width=200, height=100)\n",
        "\n",
        "root.mainloop()\n"
      ],
      "metadata": {
        "id": "r33zZrl6NN8l"
      },
      "execution_count": null,
      "outputs": []
    },
    {
      "cell_type": "code",
      "source": [
        "import tkinter as tk                # python 3\n",
        "from tkinter import font  as tkfont # python 3\n",
        "#import Tkinter as tk     # python 2\n",
        "#import tkFont as tkfont  # python 2\n",
        "\n",
        "class SampleApp(tk.Tk):\n",
        "\n",
        "    def _init_(self, *args, **kwargs):\n",
        "        tk.Tk._init_(self, *args, **kwargs)\n",
        "\n",
        "        self.title_font = tkfont.Font(family='Helvetica', size=18, weight=\"bold\", slant=\"italic\")\n",
        "\n",
        "        # the container is where we'll stack a bunch of frames\n",
        "        # on top of each other, then the one we want visible\n",
        "        # will be raised above the others\n",
        "        container = tk.Frame(self)\n",
        "        container.pack(side=\"top\", fill=\"both\", expand=True)\n",
        "        container.grid_rowconfigure(0, weight=1)\n",
        "        container.grid_columnconfigure(0, weight=1)\n",
        "\n",
        "        self.frames = {}\n",
        "        for F in (StartPage, PageOne, PageTwo):\n",
        "            page_name = F._name_\n",
        "            frame = F(parent=container, controller=self)\n",
        "            self.frames[page_name] = frame\n",
        "\n",
        "            # put all of the pages in the same location;\n",
        "            # the one on the top of the stacking order\n",
        "            # will be the one that is visible.\n",
        "            frame.grid(row=0, column=0, sticky=\"nsew\")\n",
        "\n",
        "        self.show_frame(\"StartPage\")\n",
        "\n",
        "    def show_frame(self, page_name):\n",
        "        '''Show a frame for the given page name'''\n",
        "        frame = self.frames[page_name]\n",
        "        frame.tkraise()\n",
        "\n",
        "\n",
        "class StartPage(tk.Frame):\n",
        "\n",
        "    def _init_(self, parent, controller):\n",
        "        tk.Frame._init_(self, parent)\n",
        "        self.controller = controller\n",
        "        label = tk.Label(self, text=\"This is the start page\", font=controller.title_font)\n",
        "        label.pack(side=\"top\", fill=\"x\", pady=10)\n",
        "\n",
        "        button1 = tk.Button(self, text=\"Go to Page One\",\n",
        "                            command=lambda: controller.show_frame(\"PageOne\"))\n",
        "        button2 = tk.Button(self, text=\"Go to Page Two\",\n",
        "                            command=lambda: controller.show_frame(\"PageTwo\"))\n",
        "        button1.pack()\n",
        "        button2.pack()\n",
        "\n",
        "\n",
        "class PageOne(tk.Frame):\n",
        "\n",
        "    def _init_(self, parent, controller):\n",
        "        tk.Frame._init_(self, parent)\n",
        "        self.controller = controller\n",
        "        label = tk.Label(self, text=\"This is page 1\", font=controller.title_font)\n",
        "        label.pack(side=\"top\", fill=\"x\", pady=10)\n",
        "        button = tk.Button(self, text=\"Go to the start page\",\n",
        "                           command=lambda: controller.show_frame(\"StartPage\"))\n",
        "        button.pack()\n",
        "\n",
        "\n",
        "class PageTwo(tk.Frame):\n",
        "\n",
        "    def _init_(self, parent, controller):\n",
        "        tk.Frame._init_(self, parent)\n",
        "        self.controller = controller\n",
        "        label = tk.Label(self, text=\"This is page 2\", font=controller.title_font)\n",
        "        label.pack(side=\"top\", fill=\"x\", pady=10)\n",
        "        button = tk.Button(self, text=\"Go to the start page\",\n",
        "                           command=lambda: controller.show_frame(\"StartPage\"))\n",
        "        button.pack()\n",
        "\n",
        "\n",
        "if _name_ == \"_main_\":\n",
        "    app = SampleApp()\n",
        "    app.mainloop()"
      ],
      "metadata": {
        "id": "CfbFx1uvOGhR"
      },
      "execution_count": null,
      "outputs": []
    }
  ]
}